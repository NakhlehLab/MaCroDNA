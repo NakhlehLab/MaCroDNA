{
 "cells": [
  {
   "cell_type": "markdown",
   "metadata": {
    "collapsed": true,
    "pycharm": {
     "name": "#%% md\n"
    }
   },
   "source": [
    "# Step 1: Process CRC data\n",
    "## Step 1.1: CRC data access\n",
    "The CRC data was published by [Bian et al. ](https://www.science.org/doi/10.1126/science.aao3791) in 2018, and the raw data has been submitted to the NCBI GEO under accession number [GSE97693](https://www.ncbi.nlm.nih.gov/geo/query/acc.cgi?acc=GSE97693)\n",
    "\n",
    "## Step 1.2 scDNA-seq processing\n",
    "As stated by [Bian et al. ](https://www.science.org/doi/10.1126/science.aao3791), CNV was estimated from single-cell DNA methylome sequencing data. We recommend using [bwa-meth](https://github.com/brentp/bwa-meth) for sequence alignment of BS-seq reads. Then [Samtools](http://www.htslib.org/) can be used for sorting and deduplicating. ANd the last step is using [featureCounts](https://subread.sourceforge.net/featureCounts.html#:~:text=featureCounts%20is%20a%20highly%20efficient,and%20genomic%20DNA%2Dseq%20reads.) to count the reads.\n",
    "\n",
    "\n",
    "[Bian et al. ](https://www.science.org/doi/10.1126/science.aao3791) used [Bismark](https://www.bioinformatics.babraham.ac.uk/projects/bismark/#:~:text=Bismark%20is%20a%20program%20to,of%20their%20samples%20straight%20away.) for alignment, [Samtools](http://www.htslib.org/) for deduplicating, [bedtools](https://bedtools.readthedocs.io/en/latest/) for converting BAM files to BED files, and [Ginkgo algorithm](https://www.nature.com/articles/nmeth.3578) for constructing copy-number profiles. Details can be found in the supplementary materials of the original paper under the \"SCNA estimation from single-cell DNA methylation sequencing data\" section.\n",
    "\n",
    "## Step 1.3 scRNA-seq processing\n",
    "In the comparison experiments between MaCroDNA and other methods, scRNA-seq data from patients CRC01, CRC10, and CRC11 were applied. These data were performed according to the [multiplexed scRNA-seq method](https://doi.org/10.1186/s13059-018-1416-2) and the alignment was done by using [Tophat](http://ccb.jhu.edu/software/tophat/index.shtml). Details can be found in the supplementary materials of the original paper under the \"Single-cell RNA-seq data processing\" section. "
   ]
  },
  {
   "cell_type": "markdown",
   "metadata": {
    "pycharm": {
     "name": "#%% md\n"
    }
   },
   "source": [
    "## Step 1.4 Data normalization and feature selection\n",
    "After processing scRNA-seq and scDNA-seq data, we can obtain two data matrices for each patient. One matrix is the scRNA-seq cell-by-gene matrix with columns as cell ids and rows as gene ids, named `rna_raw`. The other matrix is CNV cell-by-gene matrix with columns as cell ids and rows as gene ids, named `cnv_raw`. For illustrating how we processed the data and how to run MaCroDNA, we adopted [NCI-N87 from CCNMF](https://github.com/XQBai/CCNMF)."
   ]
  },
  {
   "cell_type": "code",
   "execution_count": 3,
   "metadata": {
    "ExecuteTime": {
     "end_time": "2023-07-01T20:06:54.818479630Z",
     "start_time": "2023-07-01T20:06:54.409905802Z"
    }
   },
   "outputs": [],
   "source": [
    "import utils\n",
    "import pandas as pd\n",
    "import numpy as np\n",
    "import os\n",
    "import copy\n",
    "import subprocess\n",
    "# read data as dataframe\n",
    "DataDir = \"Data/\"\n",
    "rna_raw = pd.read_csv(DataDir+\"rna_raw.csv\",index_col=0)\n",
    "dna_raw = pd.read_csv(DataDir+\"cnv_raw.csv\",index_col=0)"
   ]
  },
  {
   "cell_type": "markdown",
   "metadata": {},
   "source": [
    "Considering different processing methods for Seurat and clonealign, we applied 4 different processing strategies, denoted as noX_genes_raw, all_genes_raw,all_genes_log, and 2000_genes_log."
   ]
  },
  {
   "cell_type": "markdown",
   "metadata": {},
   "source": [
    "### Step 1.4.1 noX_genes_raw\n",
    "The first one is the clonealign’s preprocessing, tagged with noX genes raw. In this strategy, genes expressed in less than 1% of cells are removed and genes on chromosome X are also removed."
   ]
  },
  {
   "cell_type": "code",
   "execution_count": 4,
   "metadata": {
    "ExecuteTime": {
     "end_time": "2023-07-01T20:06:58.871765861Z",
     "start_time": "2023-07-01T20:06:56.681487183Z"
    }
   },
   "outputs": [],
   "source": [
    "# remove genes on chrX\n",
    "gene_file = pd.read_csv(DataDir+\"hg38_gene_ordering.txt\",sep=\"\\t\",\n",
    "                        index_col=0, header=None,\n",
    "                        names=[\"chr\",\"start\",\"end\"])\n",
    "chrX_gene = gene_file[gene_file[\"chr\"]==\"chrX\"].index.to_list()\n",
    "dna_noX_raw = dna_raw.drop(set(chrX_gene).intersection(dna_raw.index), \n",
    "                           axis=0, inplace=False)\n",
    "dna_noX_raw = dna_noX_raw.round().astype(int)\n",
    "\n",
    "# filter out genes expressed in less than 1% of cells,\n",
    "# keep the genes appear in both RNA and DNA data\n",
    "dna_noX_genes_raw,rna_noX_genes_raw = utils.find_genes(dna_noX_raw,rna_raw)\n",
    "\n",
    "# As long as there is gene has 0 copy number in one cell,\n",
    "# there is the error \"Initial elbo is NA\" when running clonealign\n",
    "# (as mentioned in https://github.com/kieranrcampbell/clonealign/issues/4)\n",
    "# To avoid this, two strategies are tired: add1 and rm0\n",
    "\n",
    "# add1\n",
    "# add pseudo 1 to all copy number\n",
    "dna_noX_genes_raw_add1 = utils.pseudo_1(dna_noX_genes_raw)\n",
    "rna_noX_genes_raw_add1 = rna_noX_genes_raw.loc[dna_noX_genes_raw_add1.index]\n",
    "dna_noX_genes_raw_add1.to_csv(DataDir+\"dna_noX_genes_raw_add1.csv\")\n",
    "rna_noX_genes_raw_add1.to_csv(DataDir+\"rna_noX_genes_raw_add1.csv\")\n",
    "\n",
    "# rm0\n",
    "# remove genes that have 0 copy number in at least one cell\n",
    "dna_noX_genes_raw_rm0 = utils.rm_0_gene(dna_noX_genes_raw)\n",
    "rna_noX_genes_raw_rm0 = rna_noX_genes_raw.loc[dna_noX_genes_raw_rm0.index]\n",
    "dna_noX_genes_raw_rm0.to_csv(DataDir+\"dna_noX_genes_raw_rm0.csv\")\n",
    "rna_noX_genes_raw_rm0.to_csv(DataDir+\"rna_noX_genes_raw_rm0.csv\")\n",
    "\n",
    "# rm0 is chosen as the process method in the paper\n",
    "dna_noX_genes_raw_rm0.to_csv(DataDir+\"dna_noX_genes_raw.csv\")\n",
    "rna_noX_genes_raw_rm0.to_csv(DataDir+\"rna_noX_genes_raw.csv\")"
   ]
  },
  {
   "cell_type": "markdown",
   "metadata": {},
   "source": [
    "### Step 1.4.2 all_genes_raw\n",
    "In this strategy, only genes expressed in less than 1% of cells are removed. The genes on chromosome X are kept."
   ]
  },
  {
   "cell_type": "code",
   "execution_count": 5,
   "metadata": {
    "ExecuteTime": {
     "end_time": "2023-07-01T20:07:00.892807868Z",
     "start_time": "2023-07-01T20:06:59.923087573Z"
    }
   },
   "outputs": [],
   "source": [
    "# filter out genes expressed in less than 1% of cells,\n",
    "# keep the genes appear in both RNA and DNA data\n",
    "dna_all_genes_raw,rna_all_genes_raw = utils.find_genes(dna_raw,rna_raw)\n",
    "dna_all_genes_raw.to_csv(DataDir+\"dna_all_genes_raw.csv\")\n",
    "rna_all_genes_raw.to_csv(DataDir+\"rna_all_genes_raw.csv\")"
   ]
  },
  {
   "cell_type": "markdown",
   "metadata": {},
   "source": [
    "### Step 1.4.3 2000_genes_log\n",
    "The third strategy is Seurat’s preprocessing method, named as 2000_genes_log. This includes log transformation of the data, z-score normalization with 10,000 factor size, feature selection, and the selection of the top 2,000 genes. All these steps were applied sequentially to the input."
   ]
  },
  {
   "cell_type": "code",
   "execution_count": 8,
   "metadata": {
    "ExecuteTime": {
     "end_time": "2023-07-01T20:08:14.457011714Z",
     "start_time": "2023-07-01T20:08:04.876126169Z"
    }
   },
   "outputs": [
    {
     "name": "stderr",
     "output_type": "stream",
     "text": [
      "The legacy packages maptools, rgdal, and rgeos, underpinning this package\n",
      "will retire shortly. Please refer to R-spatial evolution reports on\n",
      "https://r-spatial.org/r/2023/05/15/evolution4.html for details.\n",
      "This package is now running under evolution status 0 \n",
      "Attaching SeuratObject\n",
      "Performing log-normalization\n",
      "0%   10   20   30   40   50   60   70   80   90   100%\n",
      "[----|----|----|----|----|----|----|----|----|----|\n",
      "**************************************************|\n",
      "Centering and scaling data matrix\n",
      "  |======================================================================| 100%\n",
      "Calculating gene variances\n",
      "0%   10   20   30   40   50   60   70   80   90   100%\n",
      "[----|----|----|----|----|----|----|----|----|----|\n",
      "**************************************************|\n",
      "Calculating feature variances of standardized and clipped values\n",
      "0%   10   20   30   40   50   60   70   80   90   100%\n",
      "[----|----|----|----|----|----|----|----|----|----|\n",
      "**************************************************|\n",
      "Performing log-normalization\n",
      "0%   10   20   30   40   50   60   70   80   90   100%\n",
      "[----|----|----|----|----|----|----|----|----|----|\n",
      "**************************************************|\n",
      "Centering and scaling data matrix\n",
      "  |======================================================================| 100%\n",
      "Calculating gene variances\n",
      "0%   10   20   30   40   50   60   70   80   90   100%\n",
      "[----|----|----|----|----|----|----|----|----|----|\n",
      "**************************************************|\n",
      "Calculating feature variances of standardized and clipped values\n",
      "0%   10   20   30   40   50   60   70   80   90   100%\n",
      "[----|----|----|----|----|----|----|----|----|----|\n",
      "**************************************************|\n"
     ]
    },
    {
     "data": {
      "text/plain": "0"
     },
     "execution_count": 8,
     "metadata": {},
     "output_type": "execute_result"
    }
   ],
   "source": [
    "subprocess.call(\"/usr/bin/Rscript --vanilla seurat_process.R 2000\",\n",
    "               shell=True,stdout=subprocess.DEVNULL)"
   ]
  },
  {
   "cell_type": "markdown",
   "metadata": {},
   "source": [
    "### Step 1.4.1 all_genes_log\n",
    "The last strategy includes the log transformation and z-score normalization (with 10,000451\n",
    "factor size), but all genes were kept."
   ]
  },
  {
   "cell_type": "code",
   "execution_count": 9,
   "metadata": {
    "scrolled": true,
    "ExecuteTime": {
     "end_time": "2023-07-01T20:08:27.473642701Z",
     "start_time": "2023-07-01T20:08:18.036126939Z"
    }
   },
   "outputs": [
    {
     "name": "stderr",
     "output_type": "stream",
     "text": [
      "The legacy packages maptools, rgdal, and rgeos, underpinning this package\n",
      "will retire shortly. Please refer to R-spatial evolution reports on\n",
      "https://r-spatial.org/r/2023/05/15/evolution4.html for details.\n",
      "This package is now running under evolution status 0 \n",
      "Attaching SeuratObject\n",
      "Performing log-normalization\n",
      "0%   10   20   30   40   50   60   70   80   90   100%\n",
      "[----|----|----|----|----|----|----|----|----|----|\n",
      "**************************************************|\n",
      "Centering and scaling data matrix\n",
      "  |======================================================================| 100%\n",
      "Calculating gene variances\n",
      "0%   10   20   30   40   50   60   70   80   90   100%\n",
      "[----|----|----|----|----|----|----|----|----|----|\n",
      "**************************************************|\n",
      "Calculating feature variances of standardized and clipped values\n",
      "0%   10   20   30   40   50   60   70   80   90   100%\n",
      "[----|----|----|----|----|----|----|----|----|----|\n",
      "**************************************************|\n",
      "Performing log-normalization\n",
      "0%   10   20   30   40   50   60   70   80   90   100%\n",
      "[----|----|----|----|----|----|----|----|----|----|\n",
      "**************************************************|\n",
      "Centering and scaling data matrix\n",
      "  |======================================================================| 100%\n",
      "Calculating gene variances\n",
      "0%   10   20   30   40   50   60   70   80   90   100%\n",
      "[----|----|----|----|----|----|----|----|----|----|\n",
      "**************************************************|\n",
      "Calculating feature variances of standardized and clipped values\n",
      "0%   10   20   30   40   50   60   70   80   90   100%\n",
      "[----|----|----|----|----|----|----|----|----|----|\n",
      "**************************************************|\n"
     ]
    },
    {
     "data": {
      "text/plain": "0"
     },
     "execution_count": 9,
     "metadata": {},
     "output_type": "execute_result"
    }
   ],
   "source": [
    "subprocess.call(\"/usr/bin/Rscript --vanilla seurat_process.R all\",\n",
    "               shell=True,stdout=subprocess.DEVNULL)"
   ]
  },
  {
   "cell_type": "markdown",
   "metadata": {
    "pycharm": {
     "name": "#%% md\n"
    }
   },
   "source": [
    "# Step 2. Run MaCroDNA\n",
    "MaCroDNA (Matching Cross-Domain Nucleic Acids) is a correlation-based method to perform mapping between scRNA-seq gene expression and scDNA-seq copy number values. The following is the instruction of running MaCroDNA on DNA and RNA data. We used processed data from 2000_genes_log as an example."
   ]
  },
  {
   "cell_type": "code",
   "execution_count": 10,
   "metadata": {
    "ExecuteTime": {
     "end_time": "2023-07-01T20:08:32.850199482Z",
     "start_time": "2023-07-01T20:08:32.123428670Z"
    }
   },
   "outputs": [],
   "source": [
    "from sklearn.cluster import AgglomerativeClustering\n",
    "from macrodna import MaCroDNA\n",
    "dna = pd.read_csv(DataDir+\"dna_2000_genes_log.csv\",index_col=0)\n",
    "rna = pd.read_csv(DataDir+\"rna_2000_genes_log.csv\",index_col=0)"
   ]
  },
  {
   "cell_type": "markdown",
   "metadata": {},
   "source": [
    "## Step 2.1 DNA cells clustering\n",
    "MaCroDNA can map RNA cells to DNA cells, and it can also map RNA cells to DNA clones. To obtain clones from DNA sample, we used hierarchical clustering method as an example to get clones. The clustering methods mentioned in the paper can be found in clone_generation.ipynb"
   ]
  },
  {
   "cell_type": "code",
   "execution_count": 12,
   "metadata": {
    "ExecuteTime": {
     "end_time": "2023-07-01T20:08:45.400506004Z",
     "start_time": "2023-07-01T20:08:45.246781183Z"
    }
   },
   "outputs": [],
   "source": [
    "dna_clone = AgglomerativeClustering(n_clusters=2,metric=\"euclidean\",\n",
    "                                    linkage=\"ward\").fit_predict(dna.to_numpy().T)\n",
    "dna_clone = pd.DataFrame(list(zip(dna.columns,dna_clone)), columns=[\"cell\",\"clone\"])\n",
    "dna_clone.to_csv(\"dna_clone.csv\")"
   ]
  },
  {
   "cell_type": "markdown",
   "metadata": {},
   "source": [
    "## Step 2.2 Run MaCroDNA on DNA clones"
   ]
  },
  {
   "cell_type": "code",
   "execution_count": null,
   "metadata": {
    "pycharm": {
     "name": "#%%\n"
    },
    "scrolled": true,
    "is_executing": true,
    "ExecuteTime": {
     "start_time": "2023-07-01T20:08:49.370384588Z"
    }
   },
   "outputs": [
    {
     "name": "stderr",
     "output_type": "stream",
     "text": [
      "/home/xiru/Downloads/scripts/scripts/CRC_data_analysis/macrodna.py:87: FutureWarning: Passing a set as an indexer is deprecated and will raise in a future version. Use a list instead.\n",
      "  self.dna_df = self.dna_df.loc[genes, :]\n",
      "/home/xiru/Downloads/scripts/scripts/CRC_data_analysis/macrodna.py:88: FutureWarning: Passing a set as an indexer is deprecated and will raise in a future version. Use a list instead.\n",
      "  self.rna_df = self.rna_df.loc[genes, :]\n"
     ]
    },
    {
     "name": "stdout",
     "output_type": "stream",
     "text": [
      "number of cells in dna data 724\n",
      "number of cells in rna data 3246\n",
      "number of genes in dna data 1998\n",
      "number of genes in rna data 1998\n",
      "4 350\n",
      "MaCroDNA will be run for 5 steps\n",
      "the smallest set has 724 number of cells\n",
      "Set parameter Username\n",
      "Academic license - for non-commercial use only - expires 2024-06-30\n",
      "Gurobi Optimizer version 10.0.2 build v10.0.2rc0 (linux64)\n",
      "\n",
      "CPU model: Intel(R) Core(TM) i9-10900K CPU @ 3.70GHz, instruction set [SSE2|AVX|AVX2]\n",
      "Thread count: 10 physical cores, 20 logical processors, using up to 20 threads\n",
      "\n",
      "Optimize a model with 3971 rows, 2350104 columns and 7050312 nonzeros\n",
      "Model fingerprint: 0x8be85cf0\n",
      "Variable types: 0 continuous, 2350104 integer (2350104 binary)\n",
      "Coefficient statistics:\n",
      "  Matrix range     [1e+00, 1e+00]\n",
      "  Objective range  [2e-05, 2e-01]\n",
      "  Bounds range     [1e+00, 1e+00]\n",
      "  RHS range        [1e+00, 7e+02]\n",
      "Found heuristic solution: objective 89.7047505\n",
      "Presolve removed 0 rows and 0 columns (presolve time = 5s) ...\n",
      "Presolve removed 0 rows and 0 columns (presolve time = 10s) ...\n",
      "Presolve time: 10.22s\n",
      "Presolved: 3971 rows, 2350104 columns, 7050312 nonzeros\n",
      "Variable types: 0 continuous, 2350104 integer (2350104 binary)\n"
     ]
    }
   ],
   "source": [
    "model = MaCroDNA(rna_df=rna, dna_df=dna,dna_label=dna_clone)\n",
    "rna_clone = model.cell2clone_assignment()\n",
    "\"\"\"\n",
    "rna_clone is dataframe. It has three columns. \n",
    "\"cell\" means the RNA cell id.\n",
    "\"predict_cell\" is the DNA cell id. \n",
    "It means the DNA cell that is mapped to the corresponding RNA cell by MaCroDNA.\n",
    "\"predict_clone\" is the clone id of the DNA cell in \"predict_cell\" column. \n",
    "It means the DNA clones that is assigned to the RNA cell by MaCroDNA.\n",
    "\"\"\"\n",
    "\n",
    "rna_clone.to_csv(\"macrodna_result.csv\")"
   ]
  }
 ],
 "metadata": {
  "kernelspec": {
   "display_name": "Python 3 (ipykernel)",
   "language": "python",
   "name": "python3"
  },
  "language_info": {
   "codemirror_mode": {
    "name": "ipython",
    "version": 3
   },
   "file_extension": ".py",
   "mimetype": "text/x-python",
   "name": "python",
   "nbconvert_exporter": "python",
   "pygments_lexer": "ipython3",
   "version": "3.7.7"
  }
 },
 "nbformat": 4,
 "nbformat_minor": 1
}
